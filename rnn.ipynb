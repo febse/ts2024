{
 "cells": [
  {
   "cell_type": "code",
   "execution_count": 2,
   "metadata": {},
   "outputs": [],
   "source": [
    "import torch\n",
    "import torch.nn as nn\n",
    "import numpy as np\n"
   ]
  },
  {
   "cell_type": "code",
   "execution_count": 6,
   "metadata": {},
   "outputs": [
    {
     "name": "stdout",
     "output_type": "stream",
     "text": [
      "RNN(9, 16, num_layers=2)\n"
     ]
    }
   ],
   "source": [
    "input_size = 9 # Number of features (e.g. number of data channels)\n",
    "hidden_size = 16 # Number of units in the hidden state\n",
    "num_layers = 2 # Number of hidden layers\n",
    "actfun = 'tanh'\n",
    "bias = True\n",
    "\n",
    "rnn = nn.RNN(input_size, hidden_size, num_layers, bias=bias, nonlinearity=actfun)\n",
    "print(rnn)"
   ]
  },
  {
   "cell_type": "code",
   "execution_count": 23,
   "metadata": {},
   "outputs": [
    {
     "data": {
      "text/plain": [
       "torch.Size([5, 2, 9])"
      ]
     },
     "execution_count": 23,
     "metadata": {},
     "output_type": "execute_result"
    }
   ],
   "source": [
    "# Set data params\n",
    "\n",
    "seqlength = 5\n",
    "batchsize = 2\n",
    "\n",
    "X = torch.rand(seqlength, batchsize, input_size)\n",
    "X.shape"
   ]
  },
  {
   "cell_type": "code",
   "execution_count": 21,
   "metadata": {},
   "outputs": [
    {
     "data": {
      "text/plain": [
       "tensor([[[-1.1655,  0.1973, -0.8642,  0.8766, -1.7863, -1.4530, -0.9788,\n",
       "          -0.8764, -0.0085],\n",
       "         [ 0.7033,  1.8258, -0.6387,  1.4400, -1.4262,  0.8387,  1.0611,\n",
       "           0.4655,  0.0229]],\n",
       "\n",
       "        [[-0.7369,  0.2499, -1.3118,  0.0920, -1.3180, -0.5350,  0.3396,\n",
       "          -0.3505,  0.3975],\n",
       "         [ 1.8928,  0.2210,  0.2311,  0.8236, -0.7135, -0.1065,  1.8122,\n",
       "          -0.6381,  1.1050]],\n",
       "\n",
       "        [[ 1.0942, -1.2219,  0.9654,  0.6967, -0.9846,  0.0424, -1.1576,\n",
       "           0.1372,  0.2620],\n",
       "         [-0.8565,  0.4867, -0.0220, -1.1232, -0.9422, -0.6735, -0.2035,\n",
       "           1.1426, -0.1184]],\n",
       "\n",
       "        [[ 0.4335,  1.0810, -0.4384, -1.3834,  0.4484, -0.1400,  1.3117,\n",
       "           1.1671,  1.2624],\n",
       "         [-0.3573, -0.2042,  0.1186,  0.2509, -0.9556,  0.9799, -0.1954,\n",
       "           0.0546,  0.9259]],\n",
       "\n",
       "        [[ 0.8744, -0.7167,  0.6545, -0.8926,  1.1054, -0.5185,  1.6222,\n",
       "           0.1794, -1.7534],\n",
       "         [-1.7821, -0.8314, -0.0232, -1.4260,  1.5388, -0.7460,  0.5775,\n",
       "          -0.0230, -0.6530]]])"
      ]
     },
     "execution_count": 21,
     "metadata": {},
     "output_type": "execute_result"
    }
   ],
   "source": [
    "X"
   ]
  },
  {
   "cell_type": "code",
   "execution_count": 12,
   "metadata": {},
   "outputs": [
    {
     "data": {
      "text/plain": [
       "torch.Size([2, 2, 16])"
      ]
     },
     "execution_count": 12,
     "metadata": {},
     "output_type": "execute_result"
    }
   ],
   "source": [
    "hidden = torch.zeros(num_layers, batchsize, hidden_size)\n",
    "hidden.shape"
   ]
  },
  {
   "cell_type": "code",
   "execution_count": 15,
   "metadata": {},
   "outputs": [
    {
     "data": {
      "text/plain": [
       "(torch.Size([5, 2, 16]), torch.Size([2, 2, 16]))"
      ]
     },
     "execution_count": 15,
     "metadata": {},
     "output_type": "execute_result"
    }
   ],
   "source": [
    "y, h = rnn(X, hidden)\n",
    "y.shape, h.shape"
   ]
  },
  {
   "cell_type": "code",
   "execution_count": 19,
   "metadata": {},
   "outputs": [
    {
     "name": "stdout",
     "output_type": "stream",
     "text": [
      "Input shape: torch.Size([5, 2, 9])\n",
      "Hidden shape: torch.Size([2, 2, 16])\n",
      "Output shape: torch.Size([5, 2, 16])\n"
     ]
    }
   ],
   "source": [
    "print(f\"Input shape: {X.shape}\")\n",
    "print(f\"Hidden shape: {h.shape}\")\n",
    "print(f\"Output shape: {y.shape}\")"
   ]
  }
 ],
 "metadata": {
  "kernelspec": {
   "display_name": "ta2024",
   "language": "python",
   "name": "python3"
  },
  "language_info": {
   "codemirror_mode": {
    "name": "ipython",
    "version": 3
   },
   "file_extension": ".py",
   "mimetype": "text/x-python",
   "name": "python",
   "nbconvert_exporter": "python",
   "pygments_lexer": "ipython3",
   "version": "3.11.5"
  }
 },
 "nbformat": 4,
 "nbformat_minor": 2
}
